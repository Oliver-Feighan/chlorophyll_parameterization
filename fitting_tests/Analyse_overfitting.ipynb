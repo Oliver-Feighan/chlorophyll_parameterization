{
 "cells": [
  {
   "cell_type": "code",
   "execution_count": 1,
   "metadata": {},
   "outputs": [],
   "source": [
    "import pandas as pd\n",
    "import pickle as pkl\n",
    "import matplotlib.pyplot as plt\n",
    "import os\n",
    "import re"
   ]
  },
  {
   "cell_type": "code",
   "execution_count": 2,
   "metadata": {},
   "outputs": [],
   "source": [
    "def df_and_graph(file_name):\n",
    "    df = pkl.load(open(f\"{file_name}/test_set_results.pkl\", 'rb'))\n",
    "    df\n",
    "    \n",
    "    test_rows = df.loc[df[\"set\"] == \"test\"]\n",
    "    training_rows = df.loc[df[\"set\"] == \"training\"]\n",
    "\n",
    "    fig, ax = plt.subplots()\n",
    "\n",
    "    training_rows.plot.scatter(\"tddft_energy\", \"xtb_energy\", marker='x', color='red', ax=ax)\n",
    "    test_rows.plot.scatter(\"tddft_energy\", \"xtb_energy\", marker='x', color='black', ax=ax)\n",
    "\n",
    "    fig.set_size_inches(12, 12)\n",
    "    plt.show()"
   ]
  },
  {
   "cell_type": "markdown",
   "metadata": {},
   "source": [
    "## Errors and correlations"
   ]
  },
  {
   "cell_type": "code",
   "execution_count": 3,
   "metadata": {},
   "outputs": [
    {
     "data": {
      "text/plain": [
       "['.',\n",
       " './huckel_electronegativity_global_pair_response',\n",
       " './huckel_electronegativity_response',\n",
       " './huckel_electronegativity_kinetic_response',\n",
       " './response',\n",
       " './huckel_kinetic',\n",
       " './global_pair_response',\n",
       " './huckel_global_pair',\n",
       " './kinetic_global_pair',\n",
       " './huckel_global_pair_response',\n",
       " './electronegativity_global_pair_response',\n",
       " './huckel',\n",
       " './electronegativity_global_pair',\n",
       " './huckel_electronegativity_kinetic',\n",
       " './electronegativity_kinetic_global_pair_response',\n",
       " './huckel_electronegativity_kinetic_global_pair_response',\n",
       " './global_pair',\n",
       " './kinetic_response',\n",
       " './huckel_kinetic_global_pair_response',\n",
       " './huckel_electronegativity_global_pair',\n",
       " './kinetic',\n",
       " './.ipynb_checkpoints',\n",
       " './huckel_kinetic_global_pair',\n",
       " './huckel_electronegativity',\n",
       " './huckel_kinetic_response',\n",
       " './huckel_electronegativity_kinetic_global_pair',\n",
       " './electronegativity_kinetic_response',\n",
       " './electronegativity_kinetic_global_pair',\n",
       " './huckel_response',\n",
       " './kinetic_global_pair_response',\n",
       " './electronegativity',\n",
       " './electronegativity_response',\n",
       " './electronegativity_kinetic']"
      ]
     },
     "execution_count": 3,
     "metadata": {},
     "output_type": "execute_result"
    }
   ],
   "source": [
    "directories = os.walk(\".\")\n",
    "dirs = [i[0] for i in directories]\n",
    "#dirs = [x for x in dirs if re.match(r'^.\\/[a-z]+', x)]\n",
    "dirs"
   ]
  },
  {
   "cell_type": "code",
   "execution_count": 12,
   "metadata": {},
   "outputs": [
    {
     "name": "stdout",
     "output_type": "stream",
     "text": [
      "no test results file for ./huckel_electronegativity_kinetic_response\n",
      "no test results file for ./response\n",
      "no test results file for ./huckel_global_pair_response\n",
      "no test results file for ./huckel_kinetic_response\n",
      "no test results file for ./electronegativity_kinetic_response\n",
      "no test results file for ./huckel_response\n"
     ]
    }
   ],
   "source": [
    "directories = os.walk(\".\")\n",
    "\n",
    "files = [i[2] for i in directories]\n",
    "\n",
    "rerun_pile = []\n",
    "output_files = []\n",
    "test_result_files = []\n",
    "\n",
    "\n",
    "for enum, f in enumerate(files):\n",
    "    if re.search(r'^./[a-z]+', dirs[enum]) is None:\n",
    "        continue\n",
    "    output_file = [x for x in f if re.search(r'\\d+$', x) is not None]\n",
    "    df_file = [x for x in f if re.search(r'test_set_results.pkl', x) is not None]\n",
    "    \n",
    "    if(len(df_file) == 0):\n",
    "        print(f\"no test results file for {dirs[enum]}\")\n",
    "        rerun_pile.append(dirs[enum])\n",
    "        continue\n",
    "    \n",
    "    output_files.append(dirs[enum] +\"/\" + output_file[0])\n",
    "    test_result_files.append(df_file[0])"
   ]
  },
  {
   "cell_type": "code",
   "execution_count": 20,
   "metadata": {},
   "outputs": [
    {
     "name": "stdout",
     "output_type": "stream",
     "text": [
      "RMSE(energy) : 0.059 R^2(energy) : 0.204 R^2(dipole_mags) : 0.204\n",
      "\n",
      "RMSE(energy) : 0.024 R^2(energy) : 0.664 R^2(dipole_mags) : 0.206\n",
      "\n",
      "RMSE(energy) : 0.102 R^2(energy) : 0.231 R^2(dipole_mags) : 0.129\n",
      "\n",
      "RMSE(energy) : 0.054 R^2(energy) : 0.216 R^2(dipole_mags) : 0.201\n",
      "\n",
      "RMSE(energy) : 0.108 R^2(energy) : 0.188 R^2(dipole_mags) : 0.168\n",
      "\n",
      "RMSE(energy) : 0.115 R^2(energy) : 0.163 R^2(dipole_mags) : 0.162\n",
      "\n",
      "RMSE(energy) : 0.044 R^2(energy) : 0.323 R^2(dipole_mags) : 0.214\n",
      "\n",
      "RMSE(energy) : 0.119 R^2(energy) : 0.100 R^2(dipole_mags) : 0.202\n",
      "\n",
      "RMSE(energy) : 0.134 R^2(energy) : 0.177 R^2(dipole_mags) : 0.163\n",
      "\n",
      "RMSE(energy) : 0.093 R^2(energy) : 0.225 R^2(dipole_mags) : 0.177\n",
      "\n",
      "RMSE(energy) : 0.044 R^2(energy) : 0.289 R^2(dipole_mags) : 0.213\n",
      "\n",
      "RMSE(energy) : 0.065 R^2(energy) : 0.178 R^2(dipole_mags) : 0.203\n",
      "\n",
      "RMSE(energy) : 0.113 R^2(energy) : 0.164 R^2(dipole_mags) : 0.165\n",
      "\n",
      "RMSE(energy) : 0.048 R^2(energy) : 0.393 R^2(dipole_mags) : 0.205\n",
      "\n",
      "RMSE(energy) : 0.048 R^2(energy) : 0.327 R^2(dipole_mags) : 0.175\n",
      "\n",
      "RMSE(energy) : 0.104 R^2(energy) : 0.163 R^2(dipole_mags) : 0.201\n",
      "\n",
      "RMSE(energy) : 0.174 R^2(energy) : 0.017 R^2(dipole_mags) : 0.164\n",
      "\n",
      "RMSE(energy) : 0.119 R^2(energy) : 0.116 R^2(dipole_mags) : 0.204\n",
      "\n",
      "RMSE(energy) : 0.101 R^2(energy) : 0.250 R^2(dipole_mags) : 0.137\n",
      "\n",
      "RMSE(energy) : 0.109 R^2(energy) : 0.168 R^2(dipole_mags) : 0.197\n",
      "\n",
      "RMSE(energy) : 0.111 R^2(energy) : 0.177 R^2(dipole_mags) : 0.161\n",
      "\n",
      "RMSE(energy) : 0.057 R^2(energy) : 0.198 R^2(dipole_mags) : 0.197\n",
      "\n",
      "RMSE(energy) : 0.103 R^2(energy) : 0.131 R^2(dipole_mags) : 0.204\n",
      "\n",
      "RMSE(energy) : 0.029 R^2(energy) : 0.414 R^2(dipole_mags) : 0.202\n",
      "\n",
      "RMSE(energy) : 0.106 R^2(energy) : 0.135 R^2(dipole_mags) : 0.204\n",
      "\n"
     ]
    }
   ],
   "source": [
    "for file in output_files:\n",
    "    lines = list(open(file).readlines())\n",
    "    \n",
    "    print(lines[-6])"
   ]
  },
  {
   "cell_type": "code",
   "execution_count": 9,
   "metadata": {},
   "outputs": [
    {
     "ename": "FileNotFoundError",
     "evalue": "[Errno 2] No such file or directory: 'huckel_electronegativity_kinetic_response/test_set_results.pkl'",
     "output_type": "error",
     "traceback": [
      "\u001b[0;31m---------------------------------------------------------------------------\u001b[0m",
      "\u001b[0;31mFileNotFoundError\u001b[0m                         Traceback (most recent call last)",
      "\u001b[0;32m<ipython-input-9-5bdda4e4b886>\u001b[0m in \u001b[0;36m<module>\u001b[0;34m\u001b[0m\n\u001b[0;32m----> 1\u001b[0;31m \u001b[0mdf_and_graph\u001b[0m\u001b[0;34m(\u001b[0m\u001b[0;34m\"huckel_electronegativity_kinetic_response\"\u001b[0m\u001b[0;34m)\u001b[0m\u001b[0;34m\u001b[0m\u001b[0;34m\u001b[0m\u001b[0m\n\u001b[0m",
      "\u001b[0;32m<ipython-input-2-9d5a709348e8>\u001b[0m in \u001b[0;36mdf_and_graph\u001b[0;34m(file_name)\u001b[0m\n\u001b[1;32m      1\u001b[0m \u001b[0;32mdef\u001b[0m \u001b[0mdf_and_graph\u001b[0m\u001b[0;34m(\u001b[0m\u001b[0mfile_name\u001b[0m\u001b[0;34m)\u001b[0m\u001b[0;34m:\u001b[0m\u001b[0;34m\u001b[0m\u001b[0;34m\u001b[0m\u001b[0m\n\u001b[0;32m----> 2\u001b[0;31m     \u001b[0mdf\u001b[0m \u001b[0;34m=\u001b[0m \u001b[0mpkl\u001b[0m\u001b[0;34m.\u001b[0m\u001b[0mload\u001b[0m\u001b[0;34m(\u001b[0m\u001b[0mopen\u001b[0m\u001b[0;34m(\u001b[0m\u001b[0;34mf\"{file_name}/test_set_results.pkl\"\u001b[0m\u001b[0;34m,\u001b[0m \u001b[0;34m'rb'\u001b[0m\u001b[0;34m)\u001b[0m\u001b[0;34m)\u001b[0m\u001b[0;34m\u001b[0m\u001b[0;34m\u001b[0m\u001b[0m\n\u001b[0m\u001b[1;32m      3\u001b[0m     \u001b[0mdf\u001b[0m\u001b[0;34m\u001b[0m\u001b[0;34m\u001b[0m\u001b[0m\n\u001b[1;32m      4\u001b[0m \u001b[0;34m\u001b[0m\u001b[0m\n\u001b[1;32m      5\u001b[0m     \u001b[0mtest_rows\u001b[0m \u001b[0;34m=\u001b[0m \u001b[0mdf\u001b[0m\u001b[0;34m.\u001b[0m\u001b[0mloc\u001b[0m\u001b[0;34m[\u001b[0m\u001b[0mdf\u001b[0m\u001b[0;34m[\u001b[0m\u001b[0;34m\"set\"\u001b[0m\u001b[0;34m]\u001b[0m \u001b[0;34m==\u001b[0m \u001b[0;34m\"test\"\u001b[0m\u001b[0;34m]\u001b[0m\u001b[0;34m\u001b[0m\u001b[0;34m\u001b[0m\u001b[0m\n",
      "\u001b[0;31mFileNotFoundError\u001b[0m: [Errno 2] No such file or directory: 'huckel_electronegativity_kinetic_response/test_set_results.pkl'"
     ]
    }
   ],
   "source": [
    "df_and_graph(\"huckel_electronegativity_kinetic_response\")"
   ]
  },
  {
   "cell_type": "code",
   "execution_count": 26,
   "metadata": {},
   "outputs": [
    {
     "data": {
      "text/plain": [
       "<matplotlib.axes._subplots.AxesSubplot at 0x11735c250>"
      ]
     },
     "execution_count": 26,
     "metadata": {},
     "output_type": "execute_result"
    },
    {
     "data": {
      "image/png": "[encoded data removed]",
      "text/plain": [
       "<Figure size 432x288 with 1 Axes>"
      ]
     },
     "metadata": {
      "needs_background": "light"
     },
     "output_type": "display_data"
    }
   ],
   "source": [
    "df[\"energy_error\"].plot(kind='hist')"
   ]
  },
  {
   "cell_type": "code",
   "execution_count": null,
   "metadata": {},
   "outputs": [],
   "source": []
  }
 ],
 "metadata": {
  "kernelspec": {
   "display_name": "Python 3",
   "language": "python",
   "name": "python3"
  },
  "language_info": {
   "codemirror_mode": {
    "name": "ipython",
    "version": 3
   },
   "file_extension": ".py",
   "mimetype": "text/x-python",
   "name": "python",
   "nbconvert_exporter": "python",
   "pygments_lexer": "ipython3",
   "version": "3.7.4"
  }
 },
 "nbformat": 4,
 "nbformat_minor": 2
}
