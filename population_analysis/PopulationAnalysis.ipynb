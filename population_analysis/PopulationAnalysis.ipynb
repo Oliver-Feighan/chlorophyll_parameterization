{
 "cells": [
  {
   "cell_type": "markdown",
   "metadata": {},
   "source": [
    "# Population analysis"
   ]
  },
  {
   "cell_type": "code",
   "execution_count": 13,
   "metadata": {},
   "outputs": [],
   "source": [
    "import matplotlib.pyplot as plt\n",
    "import numpy as np\n",
    "import os\n",
    "import re"
   ]
  },
  {
   "cell_type": "code",
   "execution_count": 28,
   "metadata": {},
   "outputs": [],
   "source": [
    "bchla_pops = np.array([0 for i in range(27)])\n",
    "dft_pops = np.array([0 for i in range(27)])\n",
    "xtb_pops = np.array([0 for i in range(27)])\n",
    "\n",
    "bchla_qs = np.array([0 for i in range(27)])\n",
    "dft_qs = np.array([0 for i in range(27)])\n",
    "xtb_qs = np.array([0 for i in range(27)])\n",
    "\n",
    "for root, dirs, files in os.walk('.'):\n",
    "    for f in files:\n",
    "        if \"out\" in f:\n",
    "            lines = list(open(f).readlines())\n",
    "            for line in lines:\n",
    "                if \"1        Mg\" in line:\n",
    "                    method = f.split(\"_\")[0]\n",
    "                    pop_charge = re.findall(r'-?\\d+.?\\d+', line)\n",
    "                    pop = float(pop_charge[0])\n",
    "                    charge = float(pop_charge[1])\n",
    "                    \n",
    "                    chromophore = int(re.findall(r'\\d+', f)[0]) -1\n",
    "                                        \n",
    "                    if method == \"bchla\":\n",
    "                        bchla_pops[chromophore] = pop\n",
    "                        bchla_qs[chromophore] = charge\n",
    "                    elif method == \"dft\":\n",
    "                        dft_pops[chromophore] = pop\n",
    "                        dft_qs[chromophore] = charge\n",
    "                    elif method == \"xtb\":\n",
    "                        xtb_pops[chromophore] = pop\n",
    "                        xtb_qs[chromophore] = charge\n"
   ]
  },
  {
   "cell_type": "code",
   "execution_count": 38,
   "metadata": {},
   "outputs": [
    {
     "name": "stdout",
     "output_type": "stream",
     "text": [
      "avg. Mg (valence) population\n",
      "BChla-xtb : 2.446\n",
      "DFT : 1.021\n",
      "GFN0-xtb : 0.308\n"
     ]
    }
   ],
   "source": [
    "print(\"avg. Mg (valence) population\")\n",
    "print(f'BChla-xtb : {np.mean(bchla_pops):3.3f}')\n",
    "print(f'DFT : {np.mean(dft_pops) - 10:3.3f}')\n",
    "print(f'GFN0-xtb : {np.mean(xtb_pops):3.3f}')"
   ]
  },
  {
   "cell_type": "code",
   "execution_count": 40,
   "metadata": {},
   "outputs": [
    {
     "name": "stdout",
     "output_type": "stream",
     "text": [
      "avg. Mg (valence) charge\n",
      "BChla-xtb : -0.446\n",
      "DFT : 0.979\n",
      "GFN0-xtb : 1.692\n"
     ]
    }
   ],
   "source": [
    "print(\"avg. Mg Mulliken (partial) charge\")\n",
    "print(f'BChla-xtb : {np.mean(bchla_qs):3.3f}')\n",
    "print(f'DFT : {np.mean(dft_qs):3.3f}')\n",
    "print(f'GFN0-xtb : {np.mean(xtb_qs):3.3f}')"
   ]
  },
  {
   "cell_type": "code",
   "execution_count": 42,
   "metadata": {},
   "outputs": [
    {
     "data": {
      "text/plain": [
       "<matplotlib.collections.PathCollection at 0x11d507730>"
      ]
     },
     "execution_count": 42,
     "metadata": {},
     "output_type": "execute_result"
    },
    {
     "data": {
      "image/png": "[encoded data removed]",
      "text/plain": [
       "<Figure size 432x288 with 1 Axes>"
      ]
     },
     "metadata": {
      "needs_background": "light"
     },
     "output_type": "display_data"
    }
   ],
   "source": [
    "fig, ax = plt.subplots()\n",
    "\n",
    "ax.scatter(bchla_qs, dft_qs)\n"
   ]
  },
  {
   "cell_type": "code",
   "execution_count": 43,
   "metadata": {},
   "outputs": [
    {
     "data": {
      "text/plain": [
       "<matplotlib.collections.PathCollection at 0x11d1dfd60>"
      ]
     },
     "execution_count": 43,
     "metadata": {},
     "output_type": "execute_result"
    },
    {
     "data": {
      "image/png": "[encoded data removed]",
      "text/plain": [
       "<Figure size 432x288 with 1 Axes>"
      ]
     },
     "metadata": {
      "needs_background": "light"
     },
     "output_type": "display_data"
    }
   ],
   "source": [
    "fig, ax = plt.subplots()\n",
    "\n",
    "ax.scatter(xtb_qss, dft_qs)"
   ]
  },
  {
   "cell_type": "code",
   "execution_count": null,
   "metadata": {},
   "outputs": [],
   "source": []
  }
 ],
 "metadata": {
  "kernelspec": {
   "display_name": "Python 3",
   "language": "python",
   "name": "python3"
  },
  "language_info": {
   "codemirror_mode": {
    "name": "ipython",
    "version": 3
   },
   "file_extension": ".py",
   "mimetype": "text/x-python",
   "name": "python",
   "nbconvert_exporter": "python",
   "pygments_lexer": "ipython3",
   "version": "3.7.4"
  }
 },
 "nbformat": 4,
 "nbformat_minor": 4
}
